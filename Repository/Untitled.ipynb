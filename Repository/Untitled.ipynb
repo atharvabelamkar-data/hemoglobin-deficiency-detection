{
 "cells": [
  {
   "cell_type": "code",
   "execution_count": 2,
   "metadata": {},
   "outputs": [],
   "source": [
    "from PIL import Image"
   ]
  },
  {
   "cell_type": "code",
   "execution_count": 4,
   "metadata": {},
   "outputs": [],
   "source": [
    "img = Image.open(r'C:\\Users\\Gaming PC\\Desktop\\CAPSTONE\\Dataset\\0\\7.jpg')"
   ]
  },
  {
   "cell_type": "code",
   "execution_count": 7,
   "metadata": {},
   "outputs": [],
   "source": [
    "with Image.open(r'C:\\Users\\Gaming PC\\Desktop\\CAPSTONE\\Dataset\\0\\7.jpg') as image:\n",
    "    width, height = image.size"
   ]
  },
  {
   "cell_type": "code",
   "execution_count": 9,
   "metadata": {},
   "outputs": [
    {
     "name": "stdout",
     "output_type": "stream",
     "text": [
      "116 76\n"
     ]
    }
   ],
   "source": [
    "print(width,height)"
   ]
  },
  {
   "cell_type": "code",
   "execution_count": 18,
   "metadata": {},
   "outputs": [
    {
     "data": {
      "text/plain": [
       "(255, 255, 255)"
      ]
     },
     "execution_count": 18,
     "metadata": {},
     "output_type": "execute_result"
    }
   ],
   "source": [
    "def pixel_rgb(x ,y):\n",
    "    img = Image.open(r'C:\\Users\\Gaming PC\\Desktop\\CAPSTONE\\Dataset\\0\\7.jpg').convert('RGB')\n",
    "    r, g, b = img.getpixel((x,y))\n",
    "    a = (r,g,b)\n",
    "    return a\n",
    "\n",
    "\n",
    "pixel_rgb(100 ,70)\n",
    "\n",
    "\n",
    "    "
   ]
  },
  {
   "cell_type": "code",
   "execution_count": null,
   "metadata": {},
   "outputs": [],
   "source": []
  }
 ],
 "metadata": {
  "kernelspec": {
   "display_name": "Python 3",
   "language": "python",
   "name": "python3"
  },
  "language_info": {
   "codemirror_mode": {
    "name": "ipython",
    "version": 3
   },
   "file_extension": ".py",
   "mimetype": "text/x-python",
   "name": "python",
   "nbconvert_exporter": "python",
   "pygments_lexer": "ipython3",
   "version": "3.7.6"
  }
 },
 "nbformat": 4,
 "nbformat_minor": 4
}
